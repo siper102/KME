{
 "cells": [
  {
   "cell_type": "markdown",
   "id": "069fd0fb",
   "metadata": {},
   "source": [
    "## Codebeispiel 1"
   ]
  },
  {
   "cell_type": "markdown",
   "id": "9bfae00b",
   "metadata": {},
   "source": [
    "In diesem Beispiel soll einmal der Test für die Maximum Mean Discrepancy auf Zufallszahlen angewendet werden.\n",
    " Dafür werden im folgenden in drei Szenarien geschaut, was der Test für eine Entscheidung trifft"
   ]
  },
  {
   "cell_type": "markdown",
   "id": "c34aaceb",
   "metadata": {},
   "source": [
    "Dafür wird das R-Packet [kernlab](https://cran.r-project.org/web/packages/kernlab/) verwendet."
   ]
  },
  {
   "cell_type": "code",
   "execution_count": 6,
   "id": "3bd8f585",
   "metadata": {},
   "outputs": [],
   "source": [
    "library(kernlab)"
   ]
  },
  {
   "cell_type": "markdown",
   "id": "bbeaa948",
   "metadata": {},
   "source": [
    "Die verwendete Funktion soll die in kernlab implementierte kmmd Funktion sein. \n",
    "Diese Testet die Hypthothesen\n",
    "$H_{0}:P^{X}=P^{Y}$ vs. $H_{1}: P^{X} \\neq P^{Y}$.\n",
    "\n",
    "Per default wird der Gausskernel benutzt und der Hyperparamether wird mit einer Heuristik bestimmt."
   ]
  },
  {
   "cell_type": "code",
   "execution_count": 8,
   "id": "a94034d7",
   "metadata": {},
   "outputs": [],
   "source": [
    "?kmmd"
   ]
  },
  {
   "cell_type": "markdown",
   "id": "66a21c3a",
   "metadata": {},
   "source": [
    "### Versuch 1"
   ]
  },
  {
   "cell_type": "markdown",
   "id": "9b027f6c",
   "metadata": {},
   "source": [
    "Zuerst sollen Datensätze verglichen werden, welche Realisierungen von unterschiedlichen Zufallsvariablen sind, in diesem Fall sind dies $X \\sim \\mathcal{N}(0, 1)$ und $Y \\sim Unif(1, 2)$"
   ]
  },
  {
   "cell_type": "code",
   "execution_count": 7,
   "id": "b002e839",
   "metadata": {},
   "outputs": [
    {
     "name": "stdout",
     "output_type": "stream",
     "text": [
      "Using automatic sigma estimation (sigest) for RBF or laplace kernel \n"
     ]
    },
    {
     "data": {
      "text/plain": [
       "Kernel Maximum Mean Discrepancy object of class \"kmmd\" \n",
       " \n",
       "Gaussian Radial Basis kernel function. \n",
       " Hyperparameter : sigma =  0.739356321274064 \n",
       "\n",
       "\n",
       " H0 Hypothesis rejected :  TRUE\n",
       " Rademacher bound :  0.546163676520457\n",
       "\n",
       " 1st and 3rd order MMD Statistics :  0.602466905637422 0.353041893271563"
      ]
     },
     "metadata": {},
     "output_type": "display_data"
    }
   ],
   "source": [
    "x <- matrix(rnorm(200), 100) \n",
    "y <- matrix(runif(200), 100) \n",
    "kmmd(x, y)"
   ]
  },
  {
   "cell_type": "markdown",
   "id": "b0c91bca",
   "metadata": {},
   "source": [
    "Der Parameter \"H0 Hypothesis rejected\" ist TRUE, d.h. die Nullhypothese $H_{0}:P^{X}=P^{Y}$ wird verworfen, was sich auch bestätigen lässt, da die Verteilungen unterschiedlich sind."
   ]
  },
  {
   "cell_type": "markdown",
   "id": "b2bf198e",
   "metadata": {},
   "source": [
    "### Versuch 2"
   ]
  },
  {
   "cell_type": "markdown",
   "id": "01bc8b03",
   "metadata": {},
   "source": [
    "Jetzt werden sehr leicht unterschiedliche Datensätze verglichen, undzwar Realisierungen von $X \\sim \\mathcal{N}(0, 1)$\n",
    "und $Y \\sim \\mathcal{N}(0, 1,5)$, um eine Fehlentscheidung zu provozieren."
   ]
  },
  {
   "cell_type": "code",
   "execution_count": 11,
   "id": "eb48ff5e",
   "metadata": {},
   "outputs": [
    {
     "name": "stdout",
     "output_type": "stream",
     "text": [
      "Using automatic sigma estimation (sigest) for RBF or laplace kernel \n"
     ]
    },
    {
     "data": {
      "text/plain": [
       "Kernel Maximum Mean Discrepancy object of class \"kmmd\" \n",
       " \n",
       "Gaussian Radial Basis kernel function. \n",
       " Hyperparameter : sigma =  0.248178814326538 \n",
       "\n",
       "\n",
       " H0 Hypothesis rejected :  FALSE\n",
       " Rademacher bound :  0.546163676520457\n",
       "\n",
       " 1st and 3rd order MMD Statistics :  0.225364309154397 0.038895429190958"
      ]
     },
     "metadata": {},
     "output_type": "display_data"
    }
   ],
   "source": [
    "x <- matrix(rnorm(200, 0, 1), 100)\n",
    "y <- matrix(rnorm(200, 0, 1.5), 100) \n",
    "kmmd(x, y)"
   ]
  },
  {
   "cell_type": "markdown",
   "id": "d8ae4cb2",
   "metadata": {},
   "source": [
    "Der Test erkennt also den minimalen Unterschied nicht, d.h. man sollte hier nochmal andere Testmethoden wählen."
   ]
  },
  {
   "cell_type": "markdown",
   "id": "6f76b0d6",
   "metadata": {},
   "source": [
    "### Versuch 3"
   ]
  },
  {
   "cell_type": "markdown",
   "id": "7987e02d",
   "metadata": {},
   "source": [
    "Zum Schluss sollen nochmal zwei Datensätze verglichen werden, welche Realisierungen der selben Zufallsvariable sind.\n",
    "In diesem Fall ist dies $X, Y \\sim \\mathcal{N}(0, 1)$"
   ]
  },
  {
   "cell_type": "code",
   "execution_count": 14,
   "id": "fd903e77",
   "metadata": {},
   "outputs": [
    {
     "name": "stdout",
     "output_type": "stream",
     "text": [
      "Using automatic sigma estimation (sigest) for RBF or laplace kernel \n"
     ]
    },
    {
     "data": {
      "text/plain": [
       "Kernel Maximum Mean Discrepancy object of class \"kmmd\" \n",
       " \n",
       "Gaussian Radial Basis kernel function. \n",
       " Hyperparameter : sigma =  0.228467000372957 \n",
       "\n",
       "\n",
       " H0 Hypothesis rejected :  FALSE\n",
       " Rademacher bound :  0.546163676520457\n",
       "\n",
       " 1st and 3rd order MMD Statistics :  0.181022103581243 0.0223555537241618"
      ]
     },
     "metadata": {},
     "output_type": "display_data"
    }
   ],
   "source": [
    "x <- matrix(rnorm(200), 100)\n",
    "y <- matrix(rnorm(200), 100)\n",
    "kmmd(x, y)"
   ]
  },
  {
   "cell_type": "markdown",
   "id": "f1a7266f",
   "metadata": {},
   "source": [
    "Dieser Datensatz scheint dem Test keine Probleme bereitet zu haben und die Nullhypothese wird hier nicht verworfen, d.h der Test entscheidet $P^{X} = P^{Y}$"
   ]
  }
 ],
 "metadata": {
  "kernelspec": {
   "display_name": "R",
   "language": "R",
   "name": "ir"
  },
  "language_info": {
   "codemirror_mode": "r",
   "file_extension": ".r",
   "mimetype": "text/x-r-source",
   "name": "R",
   "pygments_lexer": "r",
   "version": "3.6.1"
  }
 },
 "nbformat": 4,
 "nbformat_minor": 5
}
